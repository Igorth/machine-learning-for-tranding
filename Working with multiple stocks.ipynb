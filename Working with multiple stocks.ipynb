{
 "cells": [
  {
   "cell_type": "markdown",
   "metadata": {},
   "source": [
    "## Build a dataframe in pandas"
   ]
  },
  {
   "cell_type": "code",
   "execution_count": 33,
   "metadata": {},
   "outputs": [
    {
     "name": "stdout",
     "output_type": "stream",
     "text": [
      "                  SPY        GOOG         IBM         GLD\n",
      "2010-01-22  93.776840  273.978058  103.445122  107.169998\n",
      "2010-01-25  94.257668  268.991760  103.956169  107.480003\n",
      "2010-01-26  93.862694  270.197235  103.651207  107.559998\n"
     ]
    }
   ],
   "source": [
    "import pandas as pd\n",
    "\n",
    "def test_run():\n",
    "    # Define date range\n",
    "    start_date = '2010-01-22'\n",
    "    end_date = '2010-01-26'\n",
    "    dates = pd.date_range(start_date, end_date)\n",
    "    \n",
    "    # Create empty dataframe\n",
    "    df1 = pd.DataFrame(index=dates)\n",
    "    \n",
    "    # Ready SPY data into temporary dataframe\n",
    "    dfSPY = pd.read_csv(\"SPY.csv\", index_col=\"Date\",\n",
    "                        parse_dates=True, usecols=['Date', 'Adj Close'],\n",
    "                       na_values=['nan'])\n",
    "    \n",
    "    # Rename 'Adj Close' column to 'SPY' to prevent clash\n",
    "    dfSPY = dfSPY.rename(columns={'Adj Close':'SPY'})\n",
    "    \n",
    "    # Join the two dataframes using Dataframe.join()\n",
    "    df1 = df1.join(dfSPY, how='inner')  \n",
    "    \n",
    "    # Drop NaN Values\n",
    "    df1 = df1.dropna()\n",
    "    \n",
    "    # Read in more stocks\n",
    "    symbols = ['GOOG', 'IBM', 'GLD']\n",
    "    for symbol in symbols:\n",
    "        df_temp = pd.read_csv(\"{}.csv\".format(symbol),index_col=\"Date\",\n",
    "                        parse_dates=True, usecols=['Date', 'Adj Close'],\n",
    "                       na_values=['nan'],)\n",
    "        # rename to prevent close\n",
    "        df_temp = df_temp.rename(columns={'Adj Close': symbol})\n",
    "        df1 = df1.join(df_temp) # use default how ='left'\n",
    "    \n",
    "    print(df1)\n",
    "\n",
    "if __name__ == \"__main__\":\n",
    "    test_run()"
   ]
  }
 ],
 "metadata": {
  "kernelspec": {
   "display_name": "Python 3",
   "language": "python",
   "name": "python3"
  },
  "language_info": {
   "codemirror_mode": {
    "name": "ipython",
    "version": 3
   },
   "file_extension": ".py",
   "mimetype": "text/x-python",
   "name": "python",
   "nbconvert_exporter": "python",
   "pygments_lexer": "ipython3",
   "version": "3.5.2"
  }
 },
 "nbformat": 4,
 "nbformat_minor": 2
}
